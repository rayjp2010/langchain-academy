{
 "cells": [
  {
   "cell_type": "markdown",
   "id": "84e7619e",
   "metadata": {},
   "source": [
    "# Supervisor Agent pattern with tool call\n",
    "## Agent Definition\n",
    "- Supervisor: Decide which one to goto\n",
    "- Add agent: do add\n",
    "- Multiple: do multiple"
   ]
  },
  {
   "cell_type": "markdown",
   "id": "92f9d9fb",
   "metadata": {},
   "source": [
    "## Preparation"
   ]
  },
  {
   "cell_type": "code",
   "execution_count": 1,
   "id": "7cbde2cf",
   "metadata": {},
   "outputs": [],
   "source": [
    "from dotenv import load_dotenv\n",
    "from langchain_google_genai import ChatGoogleGenerativeAI\n",
    "\n",
    "load_dotenv()\n",
    "llm = ChatGoogleGenerativeAI(model=\"gemini-2.5-flash\", temperature=0)"
   ]
  },
  {
   "cell_type": "markdown",
   "id": "419960ad",
   "metadata": {},
   "source": [
    "### Tool Definiton"
   ]
  },
  {
   "cell_type": "code",
   "execution_count": 3,
   "id": "f60c78f4",
   "metadata": {},
   "outputs": [],
   "source": [
    "def add(a: int, b: int) -> int:\n",
    "    \"\"\"\n",
    "    Add two numbers\n",
    "    Args:\n",
    "        a: First number\n",
    "        b: Second number\n",
    "    Returns:\n",
    "        The sum of the two numbers\n",
    "    \"\"\"\n",
    "    return a + b\n",
    "\n",
    "def multiple(a: int, b: int) -> int:\n",
    "    \"\"\"\n",
    "    Multiple two numbers\n",
    "    Args:\n",
    "        a: First number\n",
    "        b: Second number\n",
    "    Returns:\n",
    "        The product of the two numbers\n",
    "    \"\"\"\n",
    "    return a * b"
   ]
  },
  {
   "cell_type": "code",
   "execution_count": null,
   "id": "6465e986",
   "metadata": {},
   "outputs": [
    {
     "name": "stdout",
     "output_type": "stream",
     "text": [
      "{'agent': {'messages': [AIMessage(content='', additional_kwargs={'function_call': {'name': 'multiple', 'arguments': '{\"b\": 5.0, \"a\": 3.0}'}}, response_metadata={'prompt_feedback': {'block_reason': 0, 'safety_ratings': []}, 'finish_reason': 'STOP', 'model_name': 'gemini-2.5-flash', 'safety_ratings': []}, name='Jack', id='run--731bc947-7b2d-4026-b7ae-93c516982568-0', tool_calls=[{'name': 'multiple', 'args': {'b': 5.0, 'a': 3.0}, 'id': '8e90d2bb-0b1e-43e9-ad16-2098914ab936', 'type': 'tool_call'}], usage_metadata={'input_tokens': 159, 'output_tokens': 142, 'total_tokens': 301, 'input_token_details': {'cache_read': 0}, 'output_token_details': {'reasoning': 124}})]}}\n",
      "{'tools': {'messages': [ToolMessage(content='15', name='multiple', id='97ec21a7-c015-48d2-971f-91132029ff80', tool_call_id='8e90d2bb-0b1e-43e9-ad16-2098914ab936')]}}\n",
      "{'agent': {'messages': [AIMessage(content='', additional_kwargs={'function_call': {'name': 'add', 'arguments': '{\"b\": 15.0, \"a\": 2.0}'}}, response_metadata={'prompt_feedback': {'block_reason': 0, 'safety_ratings': []}, 'finish_reason': 'STOP', 'model_name': 'gemini-2.5-flash', 'safety_ratings': []}, name='Jack', id='run--85670ba0-ab35-4687-9562-14834f61843d-0', tool_calls=[{'name': 'add', 'args': {'b': 15.0, 'a': 2.0}, 'id': 'b633d3a0-a601-488a-8720-264c664c472f', 'type': 'tool_call'}], usage_metadata={'input_tokens': 191, 'output_tokens': 19, 'total_tokens': 210, 'input_token_details': {'cache_read': 0}})]}}\n",
      "{'tools': {'messages': [ToolMessage(content='17', name='add', id='b50debad-2674-4607-a6fe-2af37ab48abb', tool_call_id='b633d3a0-a601-488a-8720-264c664c472f')]}}\n",
      "{'agent': {'messages': [AIMessage(content='The result is 17.', additional_kwargs={}, response_metadata={'prompt_feedback': {'block_reason': 0, 'safety_ratings': []}, 'finish_reason': 'STOP', 'model_name': 'gemini-2.5-flash', 'safety_ratings': []}, name='Jack', id='run--a7997b0d-a944-4231-bd0b-d7d7ee52964e-0', usage_metadata={'input_tokens': 224, 'output_tokens': 7, 'total_tokens': 231, 'input_token_details': {'cache_read': 0}})]}}\n"
     ]
    }
   ],
   "source": [
    "from langgraph.prebuilt import create_react_agent\n",
    "\n",
    "\n",
    "calculator = create_react_agent(\n",
    "    llm,\n",
    "    tools=[add, multiple],\n",
    "    prompt=\"You are a helpful assistant\",\n",
    "    name=\"Ray\",\n",
    ")\n",
    "\n",
    "for event in calculator.stream({\"messages\": [\"calculate 2 + 3 * 5\"]}, stream_mode=\"updates\"):\n",
    "    print(event)\n"
   ]
  },
  {
   "cell_type": "code",
   "execution_count": null,
   "id": "6e575e91",
   "metadata": {},
   "outputs": [],
   "source": []
  }
 ],
 "metadata": {
  "kernelspec": {
   "display_name": ".venv",
   "language": "python",
   "name": "python3"
  },
  "language_info": {
   "codemirror_mode": {
    "name": "ipython",
    "version": 3
   },
   "file_extension": ".py",
   "mimetype": "text/x-python",
   "name": "python",
   "nbconvert_exporter": "python",
   "pygments_lexer": "ipython3",
   "version": "3.12.11"
  }
 },
 "nbformat": 4,
 "nbformat_minor": 5
}
