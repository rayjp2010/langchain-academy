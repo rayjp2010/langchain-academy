{
 "cells": [
  {
   "cell_type": "code",
   "execution_count": 60,
   "id": "04314e0c",
   "metadata": {},
   "outputs": [],
   "source": [
    "from dotenv import load_dotenv\n",
    "\n",
    "load_dotenv()\n",
    "\n",
    "from langchain_google_genai import ChatGoogleGenerativeAI\n",
    "\n",
    "llm = ChatGoogleGenerativeAI(model=\"gemini-2.5-flash\", temperature=1)"
   ]
  },
  {
   "cell_type": "code",
   "execution_count": null,
   "id": "999574bf",
   "metadata": {},
   "outputs": [],
   "source": [
    "from pydantic import BaseModel, Field\n",
    "from langchain_google_genai import GoogleGenerativeAI\n",
    "from typing import List, Optional, TypedDict\n",
    "\n",
    "class ParentState(TypedDict):\n",
    "    topic: str\n",
    "    story: str\n",
    "\n",
    "class SubState(TypedDict):\n",
    "    story: str\n",
    "    summary: list[str]\n",
    "\n",
    "def generate_story(state: ParentState) -> ParentState:\n",
    "    system_prompt = \"\"\"\n",
    "    You are a storyteller.\n",
    "    Generate a story about the given {topic}.\n",
    "    \"\"\"\n",
    "    response = llm.invoke(system_prompt.format(topic=state[\"topic\"]))\n",
    "    return {\"story\": response.content}\n",
    "\n",
    "class Summary(BaseModel):\n",
    "    summary: list[str] = Field(description=\"A list of sentences that summarize the story\")\n",
    "\n",
    "def generate_summary(state: SubState) -> SubState:\n",
    "    structured_output = llm.with_structured_output(Summary)\n",
    "    system_prompt = \"\"\"\n",
    "    You are a good summary writer.\n",
    "    Generate a summary of the given story:\n",
    "    <story>\n",
    "    {story}\n",
    "    </story>\n",
    "    \"\"\"\n",
    "    response = structured_output.invoke(system_prompt.format(story=state[\"story\"]))\n",
    "    return {\"summary\": response.summary}\n",
    "\n",
    "def print_summary(state: SubState) -> SubState:\n",
    "    print(state[\"summary\"])\n"
   ]
  },
  {
   "cell_type": "code",
   "execution_count": 89,
   "id": "d98b8f80",
   "metadata": {},
   "outputs": [
    {
     "data": {
      "image/png": "[encoded data removed]",
      "text/plain": [
       "<IPython.core.display.Image object>"
      ]
     },
     "metadata": {},
     "output_type": "display_data"
    }
   ],
   "source": [
    "from langgraph.graph import StateGraph, START, END\n",
    "from IPython.display import Image, display\n",
    "\n",
    "subGraphBuilder = StateGraph(SubState)\n",
    "\n",
    "subGraphBuilder.add_node(\"generate_summary\", generate_summary)\n",
    "subGraphBuilder.add_node(\"print_summary\", print_summary)\n",
    "subGraphBuilder.add_edge(START, \"generate_summary\")\n",
    "subGraphBuilder.add_edge(\"generate_summary\", \"print_summary\")\n",
    "subGraphBuilder.add_edge(\"generate_summary\", END)\n",
    "\n",
    "graphBuilder = StateGraph(ParentState)\n",
    "\n",
    "graphBuilder.add_node(\"generate_story\", generate_story)\n",
    "graphBuilder.add_node(\"summary_and_tell\", subGraphBuilder.compile())\n",
    "\n",
    "graphBuilder.add_edge(START, \"generate_story\")\n",
    "graphBuilder.add_edge(\"generate_story\", \"summary_and_tell\")\n",
    "graphBuilder.add_edge(\"summary_and_tell\", END)\n",
    "\n",
    "graph = graphBuilder.compile()\n",
    "# display the graph in image\n",
    "display(Image(graph.get_graph(xray=1).draw_mermaid_png()))\n"
   ]
  },
  {
   "cell_type": "code",
   "execution_count": null,
   "id": "faefd535",
   "metadata": {},
   "outputs": [
    {
     "name": "stdout",
     "output_type": "stream",
     "text": [
      "()\n",
      "()\n",
      "()\n",
      "()\n",
      "()\n",
      "()\n",
      "()\n",
      "()\n",
      "()\n",
      "()\n",
      "()\n",
      "()\n",
      "()\n",
      "()\n",
      "()\n",
      "()\n",
      "()\n",
      "()\n",
      "()\n",
      "()\n",
      "()\n",
      "('summary_and_tell:14488dc7-a995-87a1-2d84-e0799cb13c3f',)\n",
      "[\"Willow, an elegant and aloof cat, and Gus, a boisterous Golden Retriever, initially had a strained relationship marked by Willow's disdain and Gus's bewildered optimism.\", 'Their dynamic shifted dramatically during a severe summer storm when both animals were terrified.', 'Willow, startled, sought shelter under the same sofa where a whimpering Gus was hiding, leading to an unexpected moment of shared vulnerability.', \"Instead of their usual antagonism, Willow leaned into Gus's comforting presence, and Gus found reassurance in the small cat beside him, their fears dissolving the wall between them.\", \"From that day forward, their bond transformed from wary distance to a quiet understanding, with Willow occasionally tolerating Gus's closeness and Gus approaching her with gentle care.\", 'Their unique friendship became a testament that connection can be forged in shared vulnerability, even between vastly different souls.']\n"
     ]
    }
   ],
   "source": [
    "# stream the output of the graph\n",
    "for event in graph.stream({\"topic\": \"cat and dog\"}, stream_mode=\"messages\", subgraphs=True):\n",
    "    print(event)"
   ]
  },
  {
   "cell_type": "code",
   "execution_count": null,
   "id": "112475a6",
   "metadata": {},
   "outputs": [],
   "source": []
  }
 ],
 "metadata": {
  "kernelspec": {
   "display_name": ".venv",
   "language": "python",
   "name": "python3"
  },
  "language_info": {
   "codemirror_mode": {
    "name": "ipython",
    "version": 3
   },
   "file_extension": ".py",
   "mimetype": "text/x-python",
   "name": "python",
   "nbconvert_exporter": "python",
   "pygments_lexer": "ipython3",
   "version": "3.12.11"
  }
 },
 "nbformat": 4,
 "nbformat_minor": 5
}
