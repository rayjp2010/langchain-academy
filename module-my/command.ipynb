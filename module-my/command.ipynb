{
 "cells": [
  {
   "cell_type": "code",
   "execution_count": null,
   "id": "544b1cf0",
   "metadata": {},
   "outputs": [
    {
     "data": {
      "image/png": "[encoded data removed]",
      "text/plain": [
       "<IPython.core.display.Image object>"
      ]
     },
     "metadata": {},
     "output_type": "display_data"
    },
    {
     "name": "stdout",
     "output_type": "stream",
     "text": [
      "adding topic!\n",
      "adding topic!\n",
      "adding topic!\n",
      "adding topic!\n",
      "hilarious joke about topic2\n",
      "hilarious joke about topic3\n",
      "hilarious joke about topic1\n",
      "hilarious joke about topic4\n"
     ]
    },
    {
     "data": {
      "text/plain": [
       "{'topics': ['topic1', 'topic2', 'topic3', 'topic4']}"
      ]
     },
     "execution_count": 5,
     "metadata": {},
     "output_type": "execute_result"
    }
   ],
   "source": [
    "from typing_extensions import Annotated\n",
    "from pydantic import BaseModel\n",
    "from typing import List\n",
    "from operator import add\n",
    "from langgraph.types import Send, Command\n",
    "from langgraph.graph import StateGraph, START\n",
    "from IPython.display import Image, display\n",
    "from typing import Literal\n",
    "from langgraph.store.postgres import AsyncPostgresStore\n",
    "\n",
    "\n",
    "class State(BaseModel):\n",
    "    topics: Annotated[List[str], add]\n",
    "\n",
    "\n",
    "class JokeState(BaseModel):\n",
    "    topic: str\n",
    "\n",
    "\n",
    "# node to generate topics\n",
    "def generate_topic(state: State) -> Command[Literal[\"generate_topic\", \"make_joke\"]]:\n",
    "    if len(state.topics) <= 3:\n",
    "        print(\"adding topic!\")\n",
    "        return Command(\n",
    "            update=State(topics=[f\"topic{len(state.topics) + 1}\"]),\n",
    "            goto=\"generate_topic\",\n",
    "        )\n",
    "    else:\n",
    "        return Command(\n",
    "            goto=[Send(\"make_joke\", JokeState(topic=topic)) for topic in state.topics]\n",
    "        )\n",
    "\n",
    "\n",
    "# node to make jokes\n",
    "def make_joke(state: JokeState):\n",
    "    print(f\"hilarious joke about {state.topic}\")\n",
    "\n",
    "\n",
    "builder = StateGraph(State)\n",
    "builder.add_node(\"generate_topic\", generate_topic)\n",
    "builder.add_node(\"make_joke\", make_joke)\n",
    "builder.add_edge(START, \"generate_topic\")\n",
    "\n",
    "graph = builder.compile()\n",
    "\n",
    "# display the graph\n",
    "display(Image(graph.get_graph().draw_mermaid_png()))\n",
    "\n",
    "graph.invoke(State(topics=[]))"
   ]
  },
  {
   "cell_type": "code",
   "execution_count": null,
   "id": "e90d799f",
   "metadata": {},
   "outputs": [],
   "source": []
  }
 ],
 "metadata": {
  "kernelspec": {
   "display_name": ".venv",
   "language": "python",
   "name": "python3"
  },
  "language_info": {
   "codemirror_mode": {
    "name": "ipython",
    "version": 3
   },
   "file_extension": ".py",
   "mimetype": "text/x-python",
   "name": "python",
   "nbconvert_exporter": "python",
   "pygments_lexer": "ipython3",
   "version": "3.12.11"
  }
 },
 "nbformat": 4,
 "nbformat_minor": 5
}
