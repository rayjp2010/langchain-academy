{
 "cells": [
  {
   "cell_type": "code",
   "execution_count": 2,
   "id": "14c3deb2",
   "metadata": {},
   "outputs": [
    {
     "name": "stdout",
     "output_type": "stream",
     "text": [
      "Requirement already satisfied: langgraph in /home/rui/workspace/langchain-academy/.venv/lib/python3.12/site-packages (0.6.2)\n",
      "Collecting langgraph\n",
      "  Downloading langgraph-0.6.5-py3-none-any.whl.metadata (6.8 kB)\n",
      "Collecting langgraph-checkpoint-postgres\n",
      "  Downloading langgraph_checkpoint_postgres-2.0.23-py3-none-any.whl.metadata (4.6 kB)\n",
      "Collecting psycopg[binary,pool]\n",
      "  Downloading psycopg-3.2.9-py3-none-any.whl.metadata (4.5 kB)\n",
      "Requirement already satisfied: typing-extensions>=4.6 in /home/rui/workspace/langchain-academy/.venv/lib/python3.12/site-packages (from psycopg[binary,pool]) (4.14.1)\n",
      "Collecting psycopg-binary==3.2.9 (from psycopg[binary,pool])\n",
      "  Downloading psycopg_binary-3.2.9-cp312-cp312-manylinux_2_17_x86_64.manylinux2014_x86_64.whl.metadata (2.9 kB)\n",
      "Collecting psycopg-pool (from psycopg[binary,pool])\n",
      "  Downloading psycopg_pool-3.2.6-py3-none-any.whl.metadata (2.6 kB)\n",
      "Requirement already satisfied: langchain-core>=0.1 in /home/rui/workspace/langchain-academy/.venv/lib/python3.12/site-packages (from langgraph) (0.3.72)\n",
      "Requirement already satisfied: langgraph-checkpoint<3.0.0,>=2.1.0 in /home/rui/workspace/langchain-academy/.venv/lib/python3.12/site-packages (from langgraph) (2.1.1)\n",
      "Requirement already satisfied: langgraph-prebuilt<0.7.0,>=0.6.0 in /home/rui/workspace/langchain-academy/.venv/lib/python3.12/site-packages (from langgraph) (0.6.2)\n",
      "Requirement already satisfied: langgraph-sdk<0.3.0,>=0.2.0 in /home/rui/workspace/langchain-academy/.venv/lib/python3.12/site-packages (from langgraph) (0.2.0)\n",
      "Requirement already satisfied: pydantic>=2.7.4 in /home/rui/workspace/langchain-academy/.venv/lib/python3.12/site-packages (from langgraph) (2.11.7)\n",
      "Requirement already satisfied: xxhash>=3.5.0 in /home/rui/workspace/langchain-academy/.venv/lib/python3.12/site-packages (from langgraph) (3.5.0)\n",
      "Requirement already satisfied: orjson>=3.10.1 in /home/rui/workspace/langchain-academy/.venv/lib/python3.12/site-packages (from langgraph-checkpoint-postgres) (3.11.1)\n",
      "Requirement already satisfied: langsmith>=0.3.45 in /home/rui/workspace/langchain-academy/.venv/lib/python3.12/site-packages (from langchain-core>=0.1->langgraph) (0.4.10)\n",
      "Requirement already satisfied: tenacity!=8.4.0,<10.0.0,>=8.1.0 in /home/rui/workspace/langchain-academy/.venv/lib/python3.12/site-packages (from langchain-core>=0.1->langgraph) (9.1.2)\n",
      "Requirement already satisfied: jsonpatch<2.0,>=1.33 in /home/rui/workspace/langchain-academy/.venv/lib/python3.12/site-packages (from langchain-core>=0.1->langgraph) (1.33)\n",
      "Requirement already satisfied: PyYAML>=5.3 in /home/rui/workspace/langchain-academy/.venv/lib/python3.12/site-packages (from langchain-core>=0.1->langgraph) (6.0.2)\n",
      "Requirement already satisfied: packaging>=23.2 in /home/rui/workspace/langchain-academy/.venv/lib/python3.12/site-packages (from langchain-core>=0.1->langgraph) (25.0)\n",
      "Requirement already satisfied: ormsgpack>=1.10.0 in /home/rui/workspace/langchain-academy/.venv/lib/python3.12/site-packages (from langgraph-checkpoint<3.0.0,>=2.1.0->langgraph) (1.10.0)\n",
      "Requirement already satisfied: httpx>=0.25.2 in /home/rui/workspace/langchain-academy/.venv/lib/python3.12/site-packages (from langgraph-sdk<0.3.0,>=0.2.0->langgraph) (0.28.1)\n",
      "Requirement already satisfied: annotated-types>=0.6.0 in /home/rui/workspace/langchain-academy/.venv/lib/python3.12/site-packages (from pydantic>=2.7.4->langgraph) (0.7.0)\n",
      "Requirement already satisfied: pydantic-core==2.33.2 in /home/rui/workspace/langchain-academy/.venv/lib/python3.12/site-packages (from pydantic>=2.7.4->langgraph) (2.33.2)\n",
      "Requirement already satisfied: typing-inspection>=0.4.0 in /home/rui/workspace/langchain-academy/.venv/lib/python3.12/site-packages (from pydantic>=2.7.4->langgraph) (0.4.1)\n",
      "Requirement already satisfied: anyio in /home/rui/workspace/langchain-academy/.venv/lib/python3.12/site-packages (from httpx>=0.25.2->langgraph-sdk<0.3.0,>=0.2.0->langgraph) (4.9.0)\n",
      "Requirement already satisfied: certifi in /home/rui/workspace/langchain-academy/.venv/lib/python3.12/site-packages (from httpx>=0.25.2->langgraph-sdk<0.3.0,>=0.2.0->langgraph) (2025.8.3)\n",
      "Requirement already satisfied: httpcore==1.* in /home/rui/workspace/langchain-academy/.venv/lib/python3.12/site-packages (from httpx>=0.25.2->langgraph-sdk<0.3.0,>=0.2.0->langgraph) (1.0.9)\n",
      "Requirement already satisfied: idna in /home/rui/workspace/langchain-academy/.venv/lib/python3.12/site-packages (from httpx>=0.25.2->langgraph-sdk<0.3.0,>=0.2.0->langgraph) (3.10)\n",
      "Requirement already satisfied: h11>=0.16 in /home/rui/workspace/langchain-academy/.venv/lib/python3.12/site-packages (from httpcore==1.*->httpx>=0.25.2->langgraph-sdk<0.3.0,>=0.2.0->langgraph) (0.16.0)\n",
      "Requirement already satisfied: jsonpointer>=1.9 in /home/rui/workspace/langchain-academy/.venv/lib/python3.12/site-packages (from jsonpatch<2.0,>=1.33->langchain-core>=0.1->langgraph) (3.0.0)\n",
      "Requirement already satisfied: requests-toolbelt>=1.0.0 in /home/rui/workspace/langchain-academy/.venv/lib/python3.12/site-packages (from langsmith>=0.3.45->langchain-core>=0.1->langgraph) (1.0.0)\n",
      "Requirement already satisfied: requests>=2.0.0 in /home/rui/workspace/langchain-academy/.venv/lib/python3.12/site-packages (from langsmith>=0.3.45->langchain-core>=0.1->langgraph) (2.32.4)\n",
      "Requirement already satisfied: zstandard>=0.23.0 in /home/rui/workspace/langchain-academy/.venv/lib/python3.12/site-packages (from langsmith>=0.3.45->langchain-core>=0.1->langgraph) (0.23.0)\n",
      "Requirement already satisfied: charset_normalizer<4,>=2 in /home/rui/workspace/langchain-academy/.venv/lib/python3.12/site-packages (from requests>=2.0.0->langsmith>=0.3.45->langchain-core>=0.1->langgraph) (3.4.2)\n",
      "Requirement already satisfied: urllib3<3,>=1.21.1 in /home/rui/workspace/langchain-academy/.venv/lib/python3.12/site-packages (from requests>=2.0.0->langsmith>=0.3.45->langchain-core>=0.1->langgraph) (2.5.0)\n",
      "Requirement already satisfied: sniffio>=1.1 in /home/rui/workspace/langchain-academy/.venv/lib/python3.12/site-packages (from anyio->httpx>=0.25.2->langgraph-sdk<0.3.0,>=0.2.0->langgraph) (1.3.1)\n",
      "Downloading psycopg_binary-3.2.9-cp312-cp312-manylinux_2_17_x86_64.manylinux2014_x86_64.whl (4.4 MB)\n",
      "\u001b[2K   \u001b[90m━━━━━━━━━━━━━━━━━━━━━━━━━━━━━━━━━━━━━━━━\u001b[0m \u001b[32m4.4/4.4 MB\u001b[0m \u001b[31m19.8 MB/s\u001b[0m eta \u001b[36m0:00:00\u001b[0ma \u001b[36m0:00:01\u001b[0m\n",
      "\u001b[?25hDownloading langgraph-0.6.5-py3-none-any.whl (153 kB)\n",
      "Downloading langgraph_checkpoint_postgres-2.0.23-py3-none-any.whl (40 kB)\n",
      "Downloading psycopg-3.2.9-py3-none-any.whl (202 kB)\n",
      "Downloading psycopg_pool-3.2.6-py3-none-any.whl (38 kB)\n",
      "Installing collected packages: psycopg-pool, psycopg-binary, psycopg, langgraph-checkpoint-postgres, langgraph\n",
      "  Attempting uninstall: langgraph\n",
      "    Found existing installation: langgraph 0.6.2\n",
      "    Uninstalling langgraph-0.6.2:\n",
      "      Successfully uninstalled langgraph-0.6.2\n",
      "Successfully installed langgraph-0.6.5 langgraph-checkpoint-postgres-2.0.23 psycopg-3.2.9 psycopg-binary-3.2.9 psycopg-pool-3.2.6\n",
      "\n",
      "\u001b[1m[\u001b[0m\u001b[34;49mnotice\u001b[0m\u001b[1;39;49m]\u001b[0m\u001b[39;49m A new release of pip is available: \u001b[0m\u001b[31;49m25.0.1\u001b[0m\u001b[39;49m -> \u001b[0m\u001b[32;49m25.2\u001b[0m\n",
      "\u001b[1m[\u001b[0m\u001b[34;49mnotice\u001b[0m\u001b[1;39;49m]\u001b[0m\u001b[39;49m To update, run: \u001b[0m\u001b[32;49mpip install --upgrade pip\u001b[0m\n",
      "Note: you may need to restart the kernel to use updated packages.\n"
     ]
    }
   ],
   "source": [
    "%pip install -U \"psycopg[binary,pool]\" langgraph langgraph-checkpoint-postgres"
   ]
  },
  {
   "cell_type": "code",
   "execution_count": null,
   "id": "886bfc10",
   "metadata": {},
   "outputs": [],
   "source": []
  }
 ],
 "metadata": {
  "kernelspec": {
   "display_name": ".venv",
   "language": "python",
   "name": "python3"
  },
  "language_info": {
   "codemirror_mode": {
    "name": "ipython",
    "version": 3
   },
   "file_extension": ".py",
   "mimetype": "text/x-python",
   "name": "python",
   "nbconvert_exporter": "python",
   "pygments_lexer": "ipython3",
   "version": "3.12.11"
  }
 },
 "nbformat": 4,
 "nbformat_minor": 5
}
